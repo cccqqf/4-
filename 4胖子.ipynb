{
 "cells": [
  {
   "cell_type": "markdown",
   "metadata": {},
   "source": [
    "### 为了保险起见都隔2s进行下一个点击操作"
   ]
  },
  {
   "cell_type": "code",
   "execution_count": 60,
   "metadata": {
    "collapsed": false
   },
   "outputs": [
    {
     "name": "stdout",
     "output_type": "stream",
     "text": [
      "赖美云 为她打call\n"
     ]
    }
   ],
   "source": [
    "from selenium import webdriver \n",
    "\n",
    "\n",
    "driver =webdriver.Firefox()\n",
    "driver.get(r'https://m.weibo.cn/p/231219_2793_newartificial_1001')\n",
    "from selenium.webdriver.common.action_chains import ActionChains\n",
    "import time\n",
    "time.sleep(2)\n",
    "contentname=driver.find_element_by_xpath(\"/html/body/div/div/div/div[10]/div/div/div/div/div/div[2]/div[2]/h3\")\n",
    "content=driver.find_element_by_xpath(\"/html/body/div/div/div/div[10]/div/div[2]/div/div/div[2]\")\n",
    "print(contentname.text+' '+content.text)\n",
    "js=\"var q=document.documentElement.scrollTop=4000\"\n",
    "driver.execute_script(js)\n",
    "\n",
    "ActionChains(driver).click(content).perform()\n",
    "time.sleep(2)\n",
    "\n",
    "#登录\n",
    "btn=driver.find_element_by_xpath(\"/html/body/div/div/a[2]\")\n",
    "ActionChains(driver).click(btn).perform()\n",
    "time.sleep(2)\n",
    "phone=driver.find_element_by_id(\"loginName\")\n",
    "phone.send_keys(\"0015753855650\")\n",
    "pwd=driver.find_element_by_id(\"loginPassword\")\n",
    "pwd.send_keys(\"gcbsdj061\")\n",
    "login=driver.find_element_by_id(\"loginAction\")\n",
    "ActionChains(driver).click(login).perform()"
   ]
  },
  {
   "cell_type": "markdown",
   "metadata": {},
   "source": [
    "### 坑爹东西登录验证，只能自己打一下了。。。"
   ]
  },
  {
   "cell_type": "code",
   "execution_count": null,
   "metadata": {
    "collapsed": false
   },
   "outputs": [],
   "source": [
    "contentname=driver.find_element_by_xpath(\"/html/body/div/div/div/div[10]/div/div/div/div/div/div[2]/div[2]/h3\")\n",
    "content=driver.find_element_by_xpath(\"/html/body/div/div/div/div[10]/div/div[2]/div/div/div[2]\")\n",
    "print(contentname.text+' '+content.text)\n",
    "js=\"var q=document.documentElement.scrollTop=4000\"\n",
    "\n",
    "\n",
    "for i in range(1,101):\n",
    "    driver.execute_script(js)\n",
    "    ActionChains(driver).click(content).perform()\n",
    "    time.sleep(3)"
   ]
  }
 ],
 "metadata": {
  "kernelspec": {
   "display_name": "Python 2",
   "language": "python",
   "name": "python2"
  },
  "language_info": {
   "codemirror_mode": {
    "name": "ipython",
    "version": 3
   },
   "file_extension": ".py",
   "mimetype": "text/x-python",
   "name": "python",
   "nbconvert_exporter": "python",
   "pygments_lexer": "ipython3",
   "version": "3.6.0"
  }
 },
 "nbformat": 4,
 "nbformat_minor": 2
}
